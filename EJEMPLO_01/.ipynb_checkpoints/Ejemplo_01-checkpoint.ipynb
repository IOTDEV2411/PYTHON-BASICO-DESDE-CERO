{
 "cells": [
  {
   "cell_type": "markdown",
   "id": "654e9245-d71e-4e11-8344-797d0828988c",
   "metadata": {},
   "source": [
    "# Mi primer programa en python"
   ]
  },
  {
   "cell_type": "code",
   "execution_count": null,
   "id": "942aaa28-b9b0-4584-be3d-b2d4a72447bc",
   "metadata": {},
   "outputs": [],
   "source": [
    "# Celda N01: Hola Mundo con Data Science Analysis\n",
    "# Ejemplo de Comentario en Python\n",
    "\n",
    "print(\"Hola a Todos\")\n",
    "print(\"Bienvenidos a la especializacion en INTELIGENCIA ARTIFICIAL & MACHINE LEARNING CON PYTHON\")\n"
   ]
  },
  {
   "cell_type": "markdown",
   "id": "f27c0ef6-77f0-4a59-99b4-c7268dbab2db",
   "metadata": {},
   "source": [
    "# Tipos de Datos Primitivos en Python"
   ]
  },
  {
   "cell_type": "code",
   "execution_count": null,
   "id": "362e5e6e-501d-4c26-8fb9-570bea5a697d",
   "metadata": {},
   "outputs": [],
   "source": [
    "# Tipo de Dato: Entero\n",
    "entero = 10\n",
    "print(entero)\n",
    "print(type(entero))\n"
   ]
  },
  {
   "cell_type": "code",
   "execution_count": null,
   "id": "2c1e43ff-1f1f-4a4e-8b96-b2919ba93f44",
   "metadata": {},
   "outputs": [],
   "source": [
    "# Tipo de Dato: Numero de Punto Flotante (con punto decimal)\n",
    "decimal = 3.141592 # Este es el valor del numero \"Pi\"\n",
    "print(decimal)\n",
    "print(type(decimal))"
   ]
  },
  {
   "cell_type": "code",
   "execution_count": null,
   "id": "d14c5464-f2f4-4602-9d31-6d41d2a7ebb7",
   "metadata": {},
   "outputs": [],
   "source": [
    "# Tipo de Dato: Booleano (02 estados: Verdadero o Falso)\n",
    "boolean_01 = True\n",
    "boolean_02 = False\n",
    "\n",
    "print(boolean_01)\n",
    "print(boolean_02)\n",
    "print(type(boolean_01))\n",
    "print(type(boolean_02))"
   ]
  },
  {
   "cell_type": "code",
   "execution_count": null,
   "id": "5d580fcc-a863-4148-a258-bb701bd6f79a",
   "metadata": {},
   "outputs": [],
   "source": [
    "# Tipo de Dato: Cadena de Texto\n",
    "nombre = \"Simeon\"\n",
    "apellido = 'Vega'\n",
    "\n",
    "print(nombre)\n",
    "print(apellido)\n",
    "print(type(nombre))\n",
    "print(type(apellido))"
   ]
  },
  {
   "cell_type": "markdown",
   "id": "5cb41a58-306c-4ca2-b41a-5aae500834fd",
   "metadata": {},
   "source": [
    "# Estructura de Datos\n",
    "<li>Estas estructuras vienen a ser agrupaciones de datos</li> "
   ]
  },
  {
   "attachments": {},
   "cell_type": "markdown",
   "id": "305915a7-8950-486c-8a39-6f8fce88abeb",
   "metadata": {},
   "source": [
    "## Estructura de Datos: list\n",
    "\n",
    "<li>Colecciones ordenadas de elementos, que pueden ser de diferentes tipos.</li>\n",
    "<li>En la declaración de este tipo de estructura, los datos se separan por comas y se encierran todos entre corchetes <b>“[]”</b>.</li>\n"
   ]
  },
  {
   "cell_type": "code",
   "execution_count": null,
   "id": "ef1f64c1-7743-434d-a50d-149fe16ead3f",
   "metadata": {},
   "outputs": [],
   "source": [
    "lista = [1, 1.734, \"Hola a Todos\", True]\n",
    "print(lista)\n",
    "print(type(lista))\n",
    "print(lista[2])\n",
    "print(type(lista[2]))\n",
    "lista[2] = 3.141592\n",
    "print(lista)\n",
    "# print(lista[2])\n",
    "# print(type(lista[2]))\n"
   ]
  },
  {
   "cell_type": "markdown",
   "id": "97094e7b-5e9e-42b6-8b27-e6afd1f1e59b",
   "metadata": {},
   "source": [
    "## Estructura de Datos: tuple\n",
    "<li>Este tipo de Estructura de Datos es <b>INMUTABLE</b>; es decir, no se pueden cambiar sus elementos</li>"
   ]
  },
  {
   "cell_type": "code",
   "execution_count": null,
   "id": "c20c956c-6903-49c7-b06d-a1c4e31d80b5",
   "metadata": {},
   "outputs": [],
   "source": [
    "tupla = (1, 1.734, \"Hola a Todos\", True)\n",
    "print(tupla)\n",
    "print(type(tupla))\n",
    "print(tupla[1])\n",
    "print(type(tupla[1]))\n",
    "#tupla[2] = 3.141592\n",
    "# print(tupla[2])\n",
    "# print(type(tupla[2]))\n"
   ]
  },
  {
   "attachments": {},
   "cell_type": "markdown",
   "id": "16c3aff1-88fc-4933-ba08-9e0e1e0ed2e9",
   "metadata": {},
   "source": [
    "## Estructura de Datos: set\n",
    "\n",
    "<li>Colecciones no ordenadas de elementos únicos.</li>\n",
    "<li>En la declaración de este tipo de estructura, los datos se separan por comas y se encierran todos entre llaves <b>“{}”<b>.</li>\n"
   ]
  },
  {
   "cell_type": "code",
   "execution_count": null,
   "id": "aecd38e4-462a-4f8a-ae31-613cbef14582",
   "metadata": {},
   "outputs": [],
   "source": [
    "set = {1,2,3,\"Hola\"}\n",
    "print(set)\n",
    "print(type(set))\n",
    "print(set)\n",
    "# print(set[1])\n",
    "#print(type(set[1]))\n"
   ]
  },
  {
   "cell_type": "markdown",
   "id": "a5682ead-ca31-4ae4-86ce-60e62fbd918c",
   "metadata": {},
   "source": [
    "# Estructura de Datos: Diccionarios\n",
    "\n",
    "<li>Colecciones de pares <b>llave-valor</b>.</li>\n",
    "<li>En la declaración de este tipo de estructura, los pares de datos se unen mediante <b>“:”</b> y cada par de datos se separan por comas.</li>\n",
    "<li>Finalmente, todos los pares de datos se encierran todos entre llaves “{}”.</li>"
   ]
  },
  {
   "cell_type": "code",
   "execution_count": null,
   "id": "a624c387-8fd9-42be-9c79-8516e7d16591",
   "metadata": {},
   "outputs": [],
   "source": [
    "lista = [1, 1.734, \"Hola a Todos\", True]\n",
    "dict = {\"nombre\":\"simeon\",\"edad\":39,\"profesion\":\"ing. mecatronica\",\"pi\":3.141592,\"Lista\":lista}\n",
    "print(dict)\n",
    "print(type(dict))\n",
    "print(dict[\"nombre\"])\n",
    "print(dict[\"edad\"])\n",
    "print(dict[\"pi\"])\n",
    "print(type(dict[\"edad\"]))\n",
    "print(dict[\"profesion\"])\n",
    "print(dict[\"Lista\"])"
   ]
  },
  {
   "cell_type": "code",
   "execution_count": null,
   "id": "1fd30fb5-c794-4c1b-b4c9-30e20430c710",
   "metadata": {},
   "outputs": [],
   "source": []
  }
 ],
 "metadata": {
  "kernelspec": {
   "display_name": "Python 3 (ipykernel)",
   "language": "python",
   "name": "python3"
  },
  "language_info": {
   "codemirror_mode": {
    "name": "ipython",
    "version": 3
   },
   "file_extension": ".py",
   "mimetype": "text/x-python",
   "name": "python",
   "nbconvert_exporter": "python",
   "pygments_lexer": "ipython3",
   "version": "3.11.5"
  }
 },
 "nbformat": 4,
 "nbformat_minor": 5
}
