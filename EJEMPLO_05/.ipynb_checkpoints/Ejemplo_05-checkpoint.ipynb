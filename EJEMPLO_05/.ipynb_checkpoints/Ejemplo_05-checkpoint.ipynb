{
 "cells": [
  {
   "cell_type": "code",
   "execution_count": null,
   "id": "a80b0cbe-7c0d-4481-bb22-0664f5cc5244",
   "metadata": {},
   "outputs": [],
   "source": [
    "# Ciclo While\n",
    "\n",
    "print(\"Aprendiendo Python\")\n",
    "i = 5\n",
    "n = 10\n",
    "while(i < n):\n",
    "    print(\"contando... Numero \",i)\n",
    "    i+=1"
   ]
  },
  {
   "cell_type": "code",
   "execution_count": null,
   "id": "18251d10-0f1d-41de-942d-9743a8cb8fb9",
   "metadata": {},
   "outputs": [],
   "source": [
    "# Ciclo While\n",
    "\n",
    "print(\"Aprendiendo Python\")\n",
    "i = 10\n",
    "n = 5\n",
    "while(i > n):\n",
    "    print(\"contando... Numero \",i)\n",
    "    i-=1"
   ]
  },
  {
   "cell_type": "code",
   "execution_count": null,
   "id": "bef6c350-1f63-4de0-91ea-2e5de86d8e97",
   "metadata": {},
   "outputs": [],
   "source": []
  }
 ],
 "metadata": {
  "kernelspec": {
   "display_name": "Python 3 (ipykernel)",
   "language": "python",
   "name": "python3"
  },
  "language_info": {
   "codemirror_mode": {
    "name": "ipython",
    "version": 3
   },
   "file_extension": ".py",
   "mimetype": "text/x-python",
   "name": "python",
   "nbconvert_exporter": "python",
   "pygments_lexer": "ipython3",
   "version": "3.11.5"
  }
 },
 "nbformat": 4,
 "nbformat_minor": 5
}
