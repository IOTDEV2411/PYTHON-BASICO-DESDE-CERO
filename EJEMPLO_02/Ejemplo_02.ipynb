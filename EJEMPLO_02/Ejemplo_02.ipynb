{
 "cells": [
  {
   "cell_type": "code",
   "execution_count": null,
   "id": "e78d903f-f12d-4940-9477-9c559e1dec70",
   "metadata": {},
   "outputs": [],
   "source": [
    "# Operaciones Aritmeticas\n",
    "\n",
    "a = 13\n",
    "b = 7\n",
    "print(\"operacion de suma (+): \",a+b)              \n",
    "print(\"operacion de resta (-): \",a-b)             \n",
    "print(\"operacion de multiplicacion (*): \",a*b)    \n",
    "print(\"operacion de division exacta (/): \",a/b)          \n",
    "print(\"operacion de division entera (//): \",a//b)\n",
    "print(\"operacion de modulo (%): \",a%b)            "
   ]
  },
  {
   "cell_type": "code",
   "execution_count": null,
   "id": "87a7959e-e9c4-4b82-98be-146269974dfb",
   "metadata": {},
   "outputs": [],
   "source": [
    "# Operaciones de Comparacion\n",
    "\n",
    "a = 9\n",
    "b = 7\n",
    "\n",
    "print(\"operacion mayor que (>): \",a>b)\n",
    "print(\"operacion mayor o igual que (>=): \",a>=b)\n",
    "print(\"operacion menor que (<): \",a<b)\n",
    "print(\"operacion menor o igual que (<=): \",a<=b)\n",
    "print(\"operacion igual (==): \",a==b)\n",
    "print(\"operacion no igual (!=): \",a!=b)"
   ]
  },
  {
   "cell_type": "code",
   "execution_count": null,
   "id": "b34ad8eb-0a5b-4ec9-bf90-96bed5ee3d79",
   "metadata": {},
   "outputs": [],
   "source": [
    "# Operaciones logicas\n",
    "\n",
    "a = 9\n",
    "b = 7\n",
    "c = 5\n",
    "\n",
    "resultado_01 = (a>b) and (b<c)\n",
    "resultado_02 = (a>b) or (b<c)\n",
    "resultado_03 = not (a==b)\n",
    "print(resultado_01)\n",
    "print(resultado_02)\n",
    "print(resultado_03)"
   ]
  },
  {
   "cell_type": "code",
   "execution_count": null,
   "id": "d36a07dd-3f1e-4ca1-bbf8-23183086dcfa",
   "metadata": {},
   "outputs": [],
   "source": []
  }
 ],
 "metadata": {
  "kernelspec": {
   "display_name": "Python 3 (ipykernel)",
   "language": "python",
   "name": "python3"
  },
  "language_info": {
   "codemirror_mode": {
    "name": "ipython",
    "version": 3
   },
   "file_extension": ".py",
   "mimetype": "text/x-python",
   "name": "python",
   "nbconvert_exporter": "python",
   "pygments_lexer": "ipython3",
   "version": "3.11.5"
  }
 },
 "nbformat": 4,
 "nbformat_minor": 5
}
