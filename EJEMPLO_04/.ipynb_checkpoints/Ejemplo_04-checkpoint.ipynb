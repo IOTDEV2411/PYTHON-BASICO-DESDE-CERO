{
 "cells": [
  {
   "cell_type": "markdown",
   "id": "feeed0b4-fd12-4503-9709-7e4702ea2f31",
   "metadata": {},
   "source": [
    "# Ciclo For"
   ]
  },
  {
   "cell_type": "code",
   "execution_count": null,
   "id": "a195fde9-a869-4023-b149-50fd2c97044c",
   "metadata": {},
   "outputs": [],
   "source": [
    "print(\"Aprendiendo Python\")\n",
    "# n = int(input(\"Ingresar la cantidad de veces que desea contar: \"))\n",
    "n = 10\n",
    "for i in range(1,n+1):\n",
    "    print(\"contando... Numero \",i)"
   ]
  },
  {
   "cell_type": "code",
   "execution_count": null,
   "id": "1852e8e6-04f7-4e72-9c55-64f6ca520a90",
   "metadata": {},
   "outputs": [],
   "source": []
  }
 ],
 "metadata": {
  "kernelspec": {
   "display_name": "Python 3 (ipykernel)",
   "language": "python",
   "name": "python3"
  },
  "language_info": {
   "codemirror_mode": {
    "name": "ipython",
    "version": 3
   },
   "file_extension": ".py",
   "mimetype": "text/x-python",
   "name": "python",
   "nbconvert_exporter": "python",
   "pygments_lexer": "ipython3",
   "version": "3.11.5"
  }
 },
 "nbformat": 4,
 "nbformat_minor": 5
}
