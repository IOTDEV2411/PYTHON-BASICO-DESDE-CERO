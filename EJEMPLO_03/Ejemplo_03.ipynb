{
 "cells": [
  {
   "cell_type": "code",
   "execution_count": null,
   "id": "7ce99902-157c-47e3-a7bc-2c851aed4c10",
   "metadata": {},
   "outputs": [],
   "source": [
    "# Condicionales\n",
    "# Ejemplo: Condicional Simple\n",
    "\n",
    "edad = 20\n",
    "if (edad>=18):\n",
    "    print(\"Pase y Diviertase...\")\n",
    "else:\n",
    "    print(\"No puedes pasar...\")\n",
    "print(\"Se culmino el programa\")"
   ]
  },
  {
   "cell_type": "code",
   "execution_count": null,
   "id": "37b01036-00ae-4643-8681-e4c3734e238b",
   "metadata": {},
   "outputs": [],
   "source": [
    "# Condicionales\n",
    "# Ejemplo: Condicionales Anidadas\n",
    "\n",
    "nota = 60\n",
    "if (nota>=90):\n",
    "    print(\"Categoria A\")\n",
    "elif (nota>75 and nota<90):\n",
    "    print(\"Categoria B\")\n",
    "elif (nota>=60 and nota<=75):\n",
    "    print(\"Categoria C\")\n",
    "else:\n",
    "    print(\"Categoria D\")"
   ]
  },
  {
   "cell_type": "code",
   "execution_count": null,
   "id": "978c0657-8bf0-4861-a2f5-d04e82d25e17",
   "metadata": {},
   "outputs": [],
   "source": []
  }
 ],
 "metadata": {
  "kernelspec": {
   "display_name": "Python 3 (ipykernel)",
   "language": "python",
   "name": "python3"
  },
  "language_info": {
   "codemirror_mode": {
    "name": "ipython",
    "version": 3
   },
   "file_extension": ".py",
   "mimetype": "text/x-python",
   "name": "python",
   "nbconvert_exporter": "python",
   "pygments_lexer": "ipython3",
   "version": "3.11.5"
  }
 },
 "nbformat": 4,
 "nbformat_minor": 5
}
